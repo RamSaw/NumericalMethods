{
 "cells": [
  {
   "cell_type": "markdown",
   "metadata": {},
   "source": [
    "# Задание 2"
   ]
  },
  {
   "cell_type": "code",
   "execution_count": 4,
   "metadata": {},
   "outputs": [],
   "source": [
    "import numpy as np\n",
    "import matplotlib.pyplot as plt\n",
    "\n",
    "eps = 10 ** (-6)"
   ]
  },
  {
   "cell_type": "markdown",
   "metadata": {},
   "source": [
    "## Задание 2А\n",
    "$1 / (k^2 - k - z) \\leq 1 / k^{1.9} \\Leftrightarrow k^{1.9} \\leq k^{2} - k - z$ (верно начиная с какого-то k)\n",
    "\n",
    "$\\Rightarrow k^{1.9} + k + z \\leq k^{2}$ тоже с какого-то k\n",
    "\n",
    "Поэтому оценим интегралом $\\int_n^{+\\infty}{1 / x^{1.9} dx} = 10 / (9 * n^{9/10})$, что должно быть равно eps\n",
    "\n",
    "Тогда $10 / (9 * n^{9/10}) = eps \\Leftrightarrow n \\approx 5218052$"
   ]
  },
  {
   "cell_type": "code",
   "execution_count": 5,
   "metadata": {},
   "outputs": [
    {
     "data": {
      "image/png": "[encoded data removed]",
      "text/plain": [
       "<matplotlib.figure.Figure at 0x7f96683f2f60>"
      ]
     },
     "metadata": {},
     "output_type": "display_data"
    }
   ],
   "source": [
    "def w_A(z):\n",
    "    n = 5218052\n",
    "    res = 0\n",
    "    for k in range(1, n + 1):\n",
    "        res += 1 / (k ** 2 - k - z)\n",
    "    return res\n",
    "\n",
    "\n",
    "def taskA():\n",
    "    data_x = []\n",
    "    data_y = []\n",
    "    step = 0.01\n",
    "    z = 0 + step\n",
    "    while z < 2:\n",
    "        data_x.append(z)\n",
    "        data_y.append(w_A(z))\n",
    "        z += step\n",
    "    plt.subplot(211)\n",
    "    plt.title(\"Integral error estimation\")\n",
    "    plt.plot(data_x, data_y)\n",
    "    plt.ylabel(\"w_A(z)\")\n",
    "    plt.xlabel(\"z\")\n",
    "\n",
    "plt.figure(1)\n",
    "taskA()\n",
    "plt.tight_layout()\n",
    "plt.show()"
   ]
  },
  {
   "cell_type": "markdown",
   "metadata": {},
   "source": [
    "## Задание 2B\n",
    "Модельный ряд: $\\sum_1^{+\\infty}{1 / k^2}$. Очевидно, что отношение членов ряда стремится к единице.\n",
    "\n",
    "$\\sum_1^{+\\infty}{1 / k^2} = \\pi^2 / 6 = s$. \n",
    "\n",
    "Тогда надо посчитать $s + \\sum_1^{+\\infty}(1 / (k^2 - k - z) - 1 / k^2)$\n",
    "\n",
    "$1 / (k^2 - k - z) - 1 / k^2 = (k + z) / (k^2 * (k^2 - k - z)) = (1 + z / k) / (k * (k^2 - k - z)) \\leq 2 / k^{2.9}$ с какого-то k.\n",
    "\n",
    "Тогда оцениваем $\\int_n^{+\\infty}{2 / k^2.9} = 20 / (19 * n^{19/10})$\n",
    "\n",
    "Решаем уравнение $20 / (19 * n^{19/10}) = eps \\Leftrightarrow n \\approx 1478$"
   ]
  },
  {
   "cell_type": "code",
   "execution_count": 6,
   "metadata": {},
   "outputs": [
    {
     "data": {
      "image/png": "[encoded data removed]",
      "text/plain": [
       "<matplotlib.figure.Figure at 0x7f964b0f8710>"
      ]
     },
     "metadata": {},
     "output_type": "display_data"
    }
   ],
   "source": [
    "def w_B(z):\n",
    "    n = 1478\n",
    "    res = np.pi ** 2 / 6\n",
    "    for k in range(1, n + 1):\n",
    "        res += 1 / (k ** 2 - k - z) - 1 / k ** 2\n",
    "    return res\n",
    "\n",
    "\n",
    "def taskB():\n",
    "    data_x = []\n",
    "    data_y = []\n",
    "    step = 0.01\n",
    "    z = 0 + step\n",
    "    while z < 2:\n",
    "        data_x.append(z)\n",
    "        data_y.append(w_B(z))\n",
    "        z += step\n",
    "    plt.subplot(211)\n",
    "    plt.title(\"Model series method\")\n",
    "    plt.plot(data_x, data_y)\n",
    "    plt.ylabel(\"w_B(z)\")\n",
    "    plt.xlabel(\"z\")\n",
    "    \n",
    "plt.figure(1)\n",
    "taskB()\n",
    "plt.tight_layout()\n",
    "plt.show()"
   ]
  },
  {
   "cell_type": "markdown",
   "metadata": {},
   "source": [
    "## Задание 2C\n",
    "Просто посмотрим на $w_A - w_B$.\n",
    "\n",
    "Очевидно он должен быть от $-2 * eps$ до $2 * eps$, то есть от $-2 * 10^{-6}$ до $2 * 10^{-6}$"
   ]
  },
  {
   "cell_type": "code",
   "execution_count": 7,
   "metadata": {},
   "outputs": [
    {
     "data": {
      "image/png": "[encoded data removed]",
      "text/plain": [
       "<matplotlib.figure.Figure at 0x7f964b0f82b0>"
      ]
     },
     "metadata": {},
     "output_type": "display_data"
    }
   ],
   "source": [
    "def taskC():\n",
    "    data_x = []\n",
    "    data_y = []\n",
    "    step = 0.01\n",
    "    z = 0 + step\n",
    "    while z < 2:\n",
    "        data_x.append(z)\n",
    "        data_y.append(w_A(z) - w_B(z))\n",
    "        z += step\n",
    "    plt.subplot(211)\n",
    "    plt.title(\"Difference between methods\")\n",
    "    plt.plot(data_x, data_y)\n",
    "    plt.ylabel(\"w_A(z) - w_B(z)\")\n",
    "    plt.xlabel(\"z\")\n",
    "\n",
    "plt.figure(1)\n",
    "taskC()\n",
    "plt.tight_layout()\n",
    "plt.show()"
   ]
  },
  {
   "cell_type": "markdown",
   "metadata": {},
   "source": [
    "# Задание 3"
   ]
  },
  {
   "cell_type": "markdown",
   "metadata": {},
   "source": [
    "## Задание 3.1\n",
    "Посчитаем значения в точках с помощью метода Эйткина и в Вольфраме (вместо Вольфрама можно использовать долгое вычисление $s(z)$ путем вычисления первых $10^6$ членов ряда). \n",
    "\n",
    "Посмотрим на модуль разности."
   ]
  },
  {
   "cell_type": "code",
   "execution_count": 9,
   "metadata": {},
   "outputs": [
    {
     "name": "stdout",
     "output_type": "stream",
     "text": [
      "--s(-0.9)--\n",
      "wolfram: -0.720117\n",
      "eitkens method: -0.7201172295789915\n",
      "abs of difference: 2.2957899148412508e-07\n",
      "---\n",
      "--s(-1)--\n",
      "wolfram: -0.7853981633974483\n",
      "eitkens method: -0.7853981633347608\n",
      "abs of difference: 6.268752184013238e-11\n",
      "---\n",
      "--s((-0.7071067811865475+0.7071067811865476j))--\n",
      "wolfram: (-0.647215+0.486294j)\n",
      "eitkens method: (-0.6484643617326987+0.4868128489963278j)\n",
      "abs of difference: 0.0013528152202434657\n",
      "---\n",
      "--s(1j)--\n",
      "wolfram: (-0.243747747+0.86697299j)\n",
      "eitkens method: (-0.24374774707399066+0.8669729874649712j)\n",
      "abs of difference: 2.5361084180342663e-09\n",
      "---\n"
     ]
    }
   ],
   "source": [
    "def s_eitken(z, n):\n",
    "    s1 = z\n",
    "    s2 = s1 + 1 / 3 * z ** 2\n",
    "    s3 = s2 + 1 / 5 * z ** 3\n",
    "    res = s3 - (s3 - s2) ** 2 / (s3 - s2 - s2 + s1)\n",
    "    for k in range(4, n + 1):\n",
    "        s1 = s2\n",
    "        s2 = s3\n",
    "        s3 += 1 / (2 * k - 1) * z ** k\n",
    "        if s3 - s2 - s2 + s1 != 0:\n",
    "            res = s3 - (s3 - s2) ** 2 / (s3 - s2 - s2 + s1)\n",
    "    return res\n",
    "\n",
    "def calculate_value(z, wolfram_value):\n",
    "    print(\"--s(\" + str(z) + \")--\")\n",
    "    wolfram_value = wolfram_value\n",
    "    eitken_value = s_eitken(z, 10 ** 3)\n",
    "    print(\"wolfram: \" + str(wolfram_value))\n",
    "    print(\"eitkens method: \" + str(eitken_value))\n",
    "    print(\"abs of difference: \" + str(abs(wolfram_value - eitken_value)))\n",
    "    print(\"---\")\n",
    "    \n",
    "calculate_value(-0.9, -0.720117)\n",
    "calculate_value(-1, -0.7853981633974483)\n",
    "calculate_value(np.e ** (3j * np.pi / 4), -0.647215 + 0.486294j)\n",
    "calculate_value(1j, -0.243747747 + 0.86697299j)"
   ]
  },
  {
   "cell_type": "markdown",
   "metadata": {},
   "source": [
    "## Задание 3.2\n",
    "Генерируем точки на верхней дуге единичной окружности и смотрим на $log_{10}(1 / |s(z) - s_{eitken}(z)|)$, где $s(z)$ считается путям вычисления первых $10^6$ членов ряда (ее то и можно было использовать выше вместо Вольфрама).\n",
    "\n",
    "Точки берем на окружности, потому что внутри окружности сходимость быстрее.\n",
    "\n",
    "Можно видеть, что в точке (1; 0) она расходится и график этому соответсвтует"
   ]
  },
  {
   "cell_type": "code",
   "execution_count": 11,
   "metadata": {},
   "outputs": [
    {
     "name": "stderr",
     "output_type": "stream",
     "text": [
      "/home/mikhail/anaconda3/lib/python3.6/site-packages/ipykernel_launcher.py:21: RuntimeWarning: invalid value encountered in sqrt\n"
     ]
    },
    {
     "data": {
      "image/png": "[encoded data removed]",
      "text/plain": [
       "<matplotlib.figure.Figure at 0x7f96429b7f60>"
      ]
     },
     "metadata": {},
     "output_type": "display_data"
    }
   ],
   "source": [
    "def s(z):\n",
    "    n = 10 ** 6\n",
    "    res = 0\n",
    "    for k in range(1, n + 1):\n",
    "        res += 1 / (2 * k - 1) * z ** k\n",
    "    return res\n",
    "\n",
    "def draw_speed():\n",
    "    step = 0.01\n",
    "    x = -1\n",
    "    y = 0j\n",
    "    n = 10 ** 3\n",
    "    data_x = []\n",
    "    data_y = []\n",
    "    while x <= 1:\n",
    "        accurate_value = s(x + y)\n",
    "        eitken = s_eitken(x + y, n)\n",
    "        data_x.append(x)\n",
    "        data_y.append(np.log10(1 / abs(accurate_value - eitken)))\n",
    "        x += step\n",
    "        y = np.sqrt(1 - x ** 2) * 1j\n",
    "    plt.subplot(211)\n",
    "    plt.title(\"speed conversion\")\n",
    "    plt.plot(data_x, data_y)\n",
    "    plt.ylabel(\"log10(1 / |accurate - eitken|)\")\n",
    "    plt.xlabel(\"z\")\n",
    "\n",
    "plt.figure(1)\n",
    "draw_speed()\n",
    "plt.tight_layout()\n",
    "plt.show()"
   ]
  },
  {
   "cell_type": "code",
   "execution_count": null,
   "metadata": {},
   "outputs": [],
   "source": []
  }
 ],
 "metadata": {
  "kernelspec": {
   "display_name": "Python 3",
   "language": "python",
   "name": "python3"
  },
  "language_info": {
   "codemirror_mode": {
    "name": "ipython",
    "version": 3
   },
   "file_extension": ".py",
   "mimetype": "text/x-python",
   "name": "python",
   "nbconvert_exporter": "python",
   "pygments_lexer": "ipython3",
   "version": "3.6.4"
  }
 },
 "nbformat": 4,
 "nbformat_minor": 1
}
